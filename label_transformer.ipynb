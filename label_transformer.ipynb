{
 "cells": [
  {
   "cell_type": "code",
   "execution_count": 1,
   "metadata": {},
   "outputs": [],
   "source": [
    "import os\n",
    "import cv2\n",
    "import glob\n",
    "import numpy as np\n"
   ]
  },
  {
   "cell_type": "code",
   "execution_count": 2,
   "metadata": {},
   "outputs": [],
   "source": [
    "def get_label(img_path):\n",
    "\t# 讀取圖像\n",
    "\timage = cv2.imread(img_path, cv2.IMREAD_GRAYSCALE)\n",
    "\n",
    "\timg_class = 0 if \"RI\" in img_path else 1\n",
    "\timg_height, img_width = image.shape\n",
    "\n",
    "\t# 確保圖像是二值圖像，如果不是，則進行二值化處理\n",
    "\t_, binary_image = cv2.threshold(image, 127, 255, cv2.THRESH_BINARY)\n",
    "\n",
    "\t# 在圖像周圍添加邊框（例如，增加10像素的邊框）\n",
    "\tborder_size = 10\n",
    "\tbinary_image_with_border = cv2.copyMakeBorder(binary_image, border_size, border_size, border_size, border_size, cv2.BORDER_CONSTANT, value=[0])\n",
    "\t\n",
    "\t# 找到輪廓\n",
    "\tcontours, _ = cv2.findContours(binary_image_with_border, cv2.RETR_EXTERNAL, cv2.CHAIN_APPROX_SIMPLE)\n",
    "\tcontours = contours[0] - [border_size, border_size]\n",
    "\n",
    "\n",
    "\tmax_x, max_y = np.max(contours, axis=0).squeeze()\n",
    "\tmin_x, min_y = np.min(contours, axis=0).squeeze()\n",
    "\n",
    "\t# 調整輪廓坐標，去除邊框影響\n",
    "\tadjusted_contours = []\n",
    "\tfor contour in contours:\n",
    "\t\tcontour = contour.squeeze(0)\n",
    "\t\tcontour = [contour[0] / img_width, contour[1] / img_height]\n",
    "\t\tadjusted_contours.append(contour)\n",
    "\n",
    "\tadjusted_contours.append(adjusted_contours[0])\n",
    "\t\n",
    "\treturn {\n",
    "\t\t\"class\": img_class,\n",
    "\t\t\"center_x\": (max_x + min_x) / 2.0 / img_width,\n",
    "\t\t\"center_y\": (max_y + min_y) / 2.0 / img_height,\n",
    "\t\t\"width\": (max_x - min_x) / img_width,\n",
    "\t\t\"height\": (max_y - min_y) / img_height,\n",
    "\t\t\"conture\": adjusted_contours\n",
    "\t}\n",
    "\n"
   ]
  },
  {
   "cell_type": "code",
   "execution_count": 3,
   "metadata": {},
   "outputs": [],
   "source": [
    "os.makedirs(\"./Dataset/Train_data\", exist_ok=True)"
   ]
  },
  {
   "cell_type": "code",
   "execution_count": 4,
   "metadata": {},
   "outputs": [],
   "source": [
    "for image_path in glob.glob(\"./Dataset/Train_data_label/label_img/*.png\"):\n",
    "\tinfo = get_label(image_path)\n",
    "\t# copy file to Train_data\n",
    "\tos.system(f\"cp ./Dataset/Train_data_label/img/{os.path.basename(image_path).replace('.png', '.jpg')} ./Dataset/Train_data/\")\n",
    "\n",
    "\twith open(f\"./Dataset/Train_data/{os.path.basename(image_path).replace('.png', '.txt')}\", \"w\") as f:\n",
    "\t\tf.write(f\"{info['class']} \")\n",
    "\t\tfor point in info['conture']:\n",
    "\t\t\tf.write(f\"{point[0]} {point[1]} \")"
   ]
  }
 ],
 "metadata": {
  "kernelspec": {
   "display_name": "base",
   "language": "python",
   "name": "python3"
  },
  "language_info": {
   "codemirror_mode": {
    "name": "ipython",
    "version": 3
   },
   "file_extension": ".py",
   "mimetype": "text/x-python",
   "name": "python",
   "nbconvert_exporter": "python",
   "pygments_lexer": "ipython3",
   "version": "3.10.14"
  }
 },
 "nbformat": 4,
 "nbformat_minor": 2
}
