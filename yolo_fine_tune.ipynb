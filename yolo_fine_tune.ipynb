{
 "cells": [
  {
   "cell_type": "code",
   "execution_count": 1,
   "metadata": {},
   "outputs": [],
   "source": [
    "from ultralytics import YOLO\n",
    "\n",
    "river_model = YOLO(\"yolov9c-seg.pt\")\n",
    "results = river_model.train(\n",
    "    data=\"./river_data.yaml\",\n",
    "    epochs=300,\n",
    "    imgsz=640,\n",
    "    patience=0,\n",
    "    mask_ratio=1,\n",
    "    single_cls=True,\n",
    "    hsv_h=0.4,\n",
    "    hsv_v=0.6,\n",
    "    degrees=0.5,\n",
    "    flipud=0.5,\n",
    "    crop_fraction=0.3,\n",
    ")\n",
    "\n"
   ]
  },
  {
   "cell_type": "code",
   "execution_count": null,
   "metadata": {},
   "outputs": [],
   "source": [
    "road_model = YOLO(\"yolov9c-seg.pt\")\n",
    "results = road_model.train(\n",
    "    data=\"./road_data.yaml\",\n",
    "    epochs=300,\n",
    "    imgsz=640,\n",
    "    patience=0,\n",
    "    mask_ratio=1,\n",
    "    single_cls=True,\n",
    "    hsv_h=0.4,\n",
    "    hsv_v=0.6,\n",
    "    degrees=0.5,\n",
    "    flipud=0.5,\n",
    "    crop_fraction=0.3,\n",
    ")"
   ]
  }
 ],
 "metadata": {
  "kernelspec": {
   "display_name": "Python 3",
   "language": "python",
   "name": "python3"
  },
  "language_info": {
   "codemirror_mode": {
    "name": "ipython",
    "version": 3
   },
   "file_extension": ".py",
   "mimetype": "text/x-python",
   "name": "python",
   "nbconvert_exporter": "python",
   "pygments_lexer": "ipython3",
   "version": "3.10.14"
  }
 },
 "nbformat": 4,
 "nbformat_minor": 2
}
